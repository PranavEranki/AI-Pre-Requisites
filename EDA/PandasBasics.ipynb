{
 "cells": [
  {
   "cell_type": "markdown",
   "metadata": {},
   "source": [
    "# EDA Learning"
   ]
  },
  {
   "cell_type": "code",
   "execution_count": 1,
   "metadata": {},
   "outputs": [
    {
     "name": "stderr",
     "output_type": "stream",
     "text": [
      "c:\\program files (x86)\\python35-32\\lib\\importlib\\_bootstrap.py:222: RuntimeWarning: numpy.dtype size changed, may indicate binary incompatibility. Expected 56, got 52\n",
      "  return f(*args, **kwds)\n",
      "c:\\program files (x86)\\python35-32\\lib\\importlib\\_bootstrap.py:222: RuntimeWarning: numpy.dtype size changed, may indicate binary incompatibility. Expected 56, got 52\n",
      "  return f(*args, **kwds)\n"
     ]
    }
   ],
   "source": [
    "import pandas as pd\n",
    "import numpy as np\n",
    "import matplotlib.pyplot as plt\n",
    "import seaborn as sb"
   ]
  },
  {
   "cell_type": "markdown",
   "metadata": {},
   "source": [
    "Data is used in many different forms\n",
    "CSV, HTML, Etc\n",
    "\n",
    "Data is then sent from these forms to data warehousing, then to data analysis, and finally used for visualization"
   ]
  },
  {
   "cell_type": "markdown",
   "metadata": {},
   "source": [
    "Panda has many different operations\n",
    "\n",
    "* Slicing\n",
    "* Merging / Joining\n",
    "* Changing the indexes\n",
    "* changing column headers\n",
    "* Concatenation\n",
    "* Data manipulation\n"
   ]
  },
  {
   "cell_type": "code",
   "execution_count": 2,
   "metadata": {},
   "outputs": [
    {
     "name": "stdout",
     "output_type": "stream",
     "text": [
      "   Bounce_Rate  Day  Visitors\n",
      "0           20    1      1000\n",
      "1           20    2       700\n",
      "2           23    3      6000\n",
      "3           15    4      1000\n",
      "4           10    5       400\n",
      "5           34    6       350\n"
     ]
    }
   ],
   "source": [
    "# Sample dict for analysis\n",
    "\n",
    "XYZ_web= {'Day':[1,2,3,4,5,6], \"Visitors\":[1000, 700,6000,1000,400,350], \"Bounce_Rate\":[20,20, 23,15,10,34]}\n",
    "\n",
    "#Turning into a dataframe\n",
    "df= pd.DataFrame(XYZ_web)\n",
    "\n",
    "print(df)"
   ]
  },
  {
   "cell_type": "code",
   "execution_count": 3,
   "metadata": {},
   "outputs": [],
   "source": [
    "# Df.head(n) prints top n\n",
    "# Df.tail(n) prints last n"
   ]
  },
  {
   "cell_type": "markdown",
   "metadata": {},
   "source": [
    "## Merging practice\n"
   ]
  },
  {
   "cell_type": "code",
   "execution_count": 4,
   "metadata": {},
   "outputs": [
    {
     "name": "stdout",
     "output_type": "stream",
     "text": [
      "   HPI  IND_GDP  Int_Rate\n",
      "0   80       50         2\n",
      "1   90       45         1\n",
      "2   70       45         2\n",
      "3   60       67         3\n"
     ]
    }
   ],
   "source": [
    "import pandas as pd\n",
    " \n",
    "df1= pd.DataFrame({ \"HPI\":[80,90,70,60],\"Int_Rate\":[2,1,2,3],\"IND_GDP\":[50,45,45,67]}, index=[2001, 2002,2003,2004])\n",
    " \n",
    "df2=pd.DataFrame({ \"HPI\":[80,90,70,60],\"Int_Rate\":[2,1,2,3],\"IND_GDP\":[50,45,45,67]}, index=[2005, 2006,2007,2008])\n",
    " \n",
    "merged= pd.merge(df1,df2)\n",
    " \n",
    "print(merged)"
   ]
  },
  {
   "cell_type": "code",
   "execution_count": 5,
   "metadata": {},
   "outputs": [
    {
     "name": "stdout",
     "output_type": "stream",
     "text": [
      "   HPI  IND_GDP_x  Int_Rate_x  IND_GDP_y  Int_Rate_y\n",
      "0   80         50           2         50           2\n",
      "1   90         45           1         45           1\n",
      "2   70         45           2         45           2\n",
      "3   60         67           3         67           3\n"
     ]
    }
   ],
   "source": [
    "df1 = pd.DataFrame({\"HPI\":[80,90,70,60],\"Int_Rate\":[2,1,2,3], \"IND_GDP\":[50,45,45,67]}, index=[2001, 2002,2003,2004])\n",
    " \n",
    "df2 = pd.DataFrame({\"HPI\":[80,90,70,60],\"Int_Rate\":[2,1,2,3],\"IND_GDP\":[50,45,45,67]}, index=[2005, 2006,2007,2008])\n",
    " \n",
    "merged= pd.merge(df1,df2,on =\"HPI\")\n",
    " \n",
    "print(merged)"
   ]
  },
  {
   "cell_type": "code",
   "execution_count": 6,
   "metadata": {},
   "outputs": [
    {
     "name": "stdout",
     "output_type": "stream",
     "text": [
      "      IND_GDP  Int_Rate  Low_Tier_HPI  Unemployment\n",
      "2001       50         2          50.0           1.0\n",
      "2002       45         1           NaN           NaN\n",
      "2003       45         2          45.0           3.0\n",
      "2004       67         3          67.0           5.0\n",
      "2004       67         3          34.0           6.0\n"
     ]
    }
   ],
   "source": [
    "df1 = pd.DataFrame({\"Int_Rate\":[2,1,2,3], \"IND_GDP\":[50,45,45,67]}, index=[2001, 2002,2003,2004])\n",
    " \n",
    "df2 = pd.DataFrame({\"Low_Tier_HPI\":[50,45,67,34],\"Unemployment\":[1,3,5,6]}, index=[2001, 2003,2004,2004])\n",
    " \n",
    "joined= df1.join(df2)\n",
    "print(joined)"
   ]
  },
  {
   "cell_type": "markdown",
   "metadata": {},
   "source": [
    "### Concatenation practice"
   ]
  },
  {
   "cell_type": "code",
   "execution_count": 7,
   "metadata": {},
   "outputs": [
    {
     "name": "stdout",
     "output_type": "stream",
     "text": [
      "      HPI  IND_GDP  Int_Rate\n",
      "2001   80       50         2\n",
      "2002   90       45         1\n",
      "2003   70       45         2\n",
      "2004   60       67         3\n",
      "2005   80       50         2\n",
      "2006   90       45         1\n",
      "2007   70       45         2\n",
      "2008   60       67         3\n"
     ]
    }
   ],
   "source": [
    "df1 = pd.DataFrame({\"HPI\":[80,90,70,60],\"Int_Rate\":[2,1,2,3], \"IND_GDP\":[50,45,45,67]}, index=[2001, 2002,2003,2004])\n",
    " \n",
    "df2 = pd.DataFrame({\"HPI\":[80,90,70,60],\"Int_Rate\":[2,1,2,3],\"IND_GDP\":[50,45,45,67]}, index=[2005, 2006,2007,2008])\n",
    " \n",
    "concat= pd.concat([df1,df2])\n",
    " \n",
    "print(concat)"
   ]
  },
  {
   "cell_type": "code",
   "execution_count": 8,
   "metadata": {},
   "outputs": [
    {
     "name": "stdout",
     "output_type": "stream",
     "text": [
      "       HPI  IND_GDP  Int_Rate   HPI  IND_GDP  Int_Rate\n",
      "2001  80.0     50.0       2.0   NaN      NaN       NaN\n",
      "2002  90.0     45.0       1.0   NaN      NaN       NaN\n",
      "2003  70.0     45.0       2.0   NaN      NaN       NaN\n",
      "2004  60.0     67.0       3.0   NaN      NaN       NaN\n",
      "2005   NaN      NaN       NaN  80.0     50.0       2.0\n",
      "2006   NaN      NaN       NaN  90.0     45.0       1.0\n",
      "2007   NaN      NaN       NaN  70.0     45.0       2.0\n",
      "2008   NaN      NaN       NaN  60.0     67.0       3.0\n"
     ]
    }
   ],
   "source": [
    "df1 = pd.DataFrame({\"HPI\":[80,90,70,60],\"Int_Rate\":[2,1,2,3], \"IND_GDP\":[50,45,45,67]}, index=[2001, 2002,2003,2004])\n",
    " \n",
    "df2 = pd.DataFrame({\"HPI\":[80,90,70,60],\"Int_Rate\":[2,1,2,3],\"IND_GDP\":[50,45,45,67]}, index=[2005, 2006,2007,2008])\n",
    " \n",
    "concat= pd.concat([df1,df2],axis=1)\n",
    " \n",
    "print(concat)"
   ]
  },
  {
   "cell_type": "code",
   "execution_count": null,
   "metadata": {},
   "outputs": [],
   "source": []
  }
 ],
 "metadata": {
  "kernelspec": {
   "display_name": "Python 3",
   "language": "python",
   "name": "python3"
  },
  "language_info": {
   "codemirror_mode": {
    "name": "ipython",
    "version": 3
   },
   "file_extension": ".py",
   "mimetype": "text/x-python",
   "name": "python",
   "nbconvert_exporter": "python",
   "pygments_lexer": "ipython3",
   "version": "3.5.4"
  }
 },
 "nbformat": 4,
 "nbformat_minor": 2
}
